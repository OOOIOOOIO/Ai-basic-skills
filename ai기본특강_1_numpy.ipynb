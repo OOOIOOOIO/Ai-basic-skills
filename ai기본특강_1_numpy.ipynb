{
 "cells": [
  {
   "cell_type": "code",
   "execution_count": 9,
   "metadata": {
    "scrolled": true
   },
   "outputs": [
    {
     "name": "stdout",
     "output_type": "stream",
     "text": [
      "[0, 1, 2, 3, 4, 5, 'hello']\n",
      "<class 'list'>\n",
      "[0 1 2 3 4 5]\n",
      "<class 'numpy.ndarray'>\n",
      "int32\n"
     ]
    }
   ],
   "source": [
    "import numpy as np\n",
    "# ! pip install numpy 이미 아나콘다에 깔려있음\n",
    "\n",
    "#list\n",
    "list1 = [0,1,2,3,4,5, 'hello']\n",
    "print(list1)\n",
    "print(type(list1))\n",
    "\n",
    "a = np.array([0,1,2,3,4,5])\n",
    "print(a)\n",
    "print(type(a))\n",
    "print(a.dtype)"
   ]
  },
  {
   "cell_type": "code",
   "execution_count": 6,
   "metadata": {
    "scrolled": true
   },
   "outputs": [
    {
     "name": "stdout",
     "output_type": "stream",
     "text": [
      "[0.  1.  2.5 3.  4.  5. ]\n",
      "<class 'numpy.ndarray'>\n",
      "float64\n"
     ]
    }
   ],
   "source": [
    "# INT와 FLOAT\n",
    "a = np.array([0,1,2, 5.7, 3, 4, 5])\n",
    "print(a)\n",
    "print(type(a))\n",
    "print(a.dtype)"
   ]
  },
  {
   "cell_type": "code",
   "execution_count": 11,
   "metadata": {},
   "outputs": [
    {
     "name": "stdout",
     "output_type": "stream",
     "text": [
      "['0' '1' '2.5' '3' '4' '5' 'hello']\n",
      "<class 'numpy.ndarray'>\n",
      "<U32\n"
     ]
    }
   ],
   "source": [
    "# INT와 FLOAT 와 str ----->\n",
    "a = np.array([0,1,2.5,3,4,5, 'hello'])\n",
    "print(a)\n",
    "print(type(a))\n",
    "print(a.dtype)   # <U32\n",
    "# <U32 ,  < : 리틀엔디언, U:유니코드  , 32:최대문자 32 byte\n",
    "\n",
    "# 유니코드 인코딩 방식\n",
    "# (1) EUC-KR,CP949(MS949) : 완성형, 한글 2 바이트, 영문은 1 바이트, Windows\n",
    "# (2) UTF-8 : 조합형, 한글 3 바이트, 영문은 1 바이트, Linux \n"
   ]
  },
  {
   "cell_type": "code",
   "execution_count": 14,
   "metadata": {},
   "outputs": [
    {
     "name": "stdout",
     "output_type": "stream",
     "text": [
      "['1.234' '3.123' '4.4356' '5' '7'] <U6\n",
      "[1.234  3.123  4.4356 5.     7.    ] float32\n",
      "[1 3 4 5 7] int32\n"
     ]
    }
   ],
   "source": [
    "# 배열의 데이터 타입 변환 : astype()\n",
    "a1 = np.array(['1.234','3.123','4.4356','5','7'])\n",
    "print(a1, a1.dtype) # u6(6자리라는 뜻), 리틀앤디언, 유니코드, 최대문자 6 byte\n",
    "\n",
    "a2 = a1.astype('float32')  # 형변환\n",
    "print(a2, a2.dtype)\n",
    "\n",
    "a3 = a2.astype('int32')\n",
    "print(a3, a3.dtype)"
   ]
  },
  {
   "cell_type": "markdown",
   "metadata": {},
   "source": [
    "####차원(dimension, Rank) 과 Shape####\n",
    "* 차원(Dimension, Rank) : 1,2,3 차원 , n 차원, 첫 데이터까지의 대괄호의 갯수\n",
    "* Shape : 차원의 요소의 수, 튜플 형식\n",
    "1차원 Shape : (x,)\n",
    "2차원 Shape : (x,y)  , 행렬(matrix)\n",
    "3차원 Shape : (x,y,z) , (면,행,열)\n",
    "...\n",
    "n차원 Shape : (x,y,z,....)\n"
   ]
  },
  {
   "cell_type": "code",
   "execution_count": null,
   "metadata": {},
   "outputs": [],
   "source": [
    "# 튜플은 () 있어도 되고 없어도 됨, 반드시 1차원은 반드시 ,를 써줘야됨\n",
    "\n",
    "#range(start,end+1,step) 기초문법\n",
    "np.arrayt(range(0,10,2))\n",
    "\n",
    "#1차원 배열의 shape\n",
    "\n",
    "# np.arange(start,end+1,step)\n",
    "\n",
    "a = np.arange(12)  #정수 0~11 (12개)\n",
    "print(a,type(a),a.dtype)\n",
    "print(a.shape)  #(12,)\n",
    "t = a.shape\n",
    "print(type(t))  #tuple\n",
    "print(a.shape[0])   # 12\n",
    "\n",
    "a2 = np.arange(2,10)\n",
    "print(a2, type(a2))\n",
    "print(a2.shape)  #(8, ) \n",
    "\n",
    "a3 = np.arange(0,16,2)  #0~16까지 2의 배수 출력\n",
    "print(a3,type(a3))\n",
    "print(a3,shape)    #(8, )\n"
   ]
  },
  {
   "cell_type": "code",
   "execution_count": null,
   "metadata": {},
   "outputs": [],
   "source": [
    "# 2차원 배열의 Shape : 행(row,가로,수직방향,axis(축) = 0) 과 열(column,세로,수평방향,axis(축) =1)  ==> 필수 암기\n",
    "\n",
    "m = np.array([np.arange(3), np.arange(3)])\n",
    "m = np.array([[0,1,2], \n",
    "              [0,1,2]])\n",
    "print(m)\n",
    "print(m.shape)  #(2,3) 2행 3열\n",
    "print(m.shape[0],m.shape[1]) #2 3  / 0, 1을 넣은 이유는 행의 축은 0, 열은 1이기때문\n"
   ]
  },
  {
   "cell_type": "code",
   "execution_count": null,
   "metadata": {},
   "outputs": [],
   "source": [
    "# 3차원 Shape : (x,y,z) , (면,행,열) 축 (0,1,2)\n",
    "\n",
    "m = np.array([[[0,1,2], \n",
    "              [3,4,5]],\n",
    "            [[0,1,2],\n",
    "            [3,4,5]]])\n",
    "\n",
    "print(m)\n",
    "print(m.shape)  # (2,2,3)\n",
    "print(m.shape[0],m.shape[1],m.shape[2])  #축의 크기"
   ]
  },
  {
   "cell_type": "markdown",
   "metadata": {},
   "source": [
    "####배열의 shape 바꾸기 : reshape() 함수####"
   ]
  },
  {
   "cell_type": "code",
   "execution_count": null,
   "metadata": {},
   "outputs": [],
   "source": [
    "m1 = np.arange(12)\n",
    "print(m1)\n",
    "print(m1.shape)\n",
    "\n",
    "m2 = m1.reshape(3,4)  #요소의 크기만 맞으면 바꿀 수 있음\n",
    "m3 = m1.resahpe(2,2,3)"
   ]
  },
  {
   "cell_type": "code",
   "execution_count": null,
   "metadata": {},
   "outputs": [],
   "source": [
    " # -1을 사용한 reshape\n",
    "    \n",
    "m1 = np.arange(12)\n",
    "print(m1, m1.shape)\n",
    "\n",
    "m2 = m1.reshape(-1,6) #(-1,6) -1은 자동으로 2로 변함, 6이 아니라 4이면 -1은 3으로 변함\n",
    "print(m2, m2.shape)\n",
    "   "
   ]
  },
  {
   "cell_type": "markdown",
   "metadata": {},
   "source": [
    "###배열의 인덱싱과 슬라이싱"
   ]
  },
  {
   "cell_type": "code",
   "execution_count": null,
   "metadata": {},
   "outputs": [],
   "source": [
    "# 1차원 배열의 인덱싱과 슬라이싱 : list와 동일한 방법\n",
    "\n",
    "d = np.arrange(12)\n",
    "print(d, d.shape)\n",
    "print(d[])  #인덱싱 하는 방법 [] 에 알고싶은 자리값을 넣으면 됨 0~11까지, \n",
    "             #맨 마지막 수를 알고 싶을 때 -1 을 넣어도 됨, 끝에서 2번째는 -2 ...\n",
    "print(d[:]) # [ : ] ~에서부터 ~까지 ex [2:8]은 2~7까지 출력됨\n",
    "print(d[::2]) #~에서 ~까지 2간격으로 출력 / 2자리에 -1이 들어가면 역순으로 출력\n",
    "\n",
    "d[0] = 10 #요소 변경 가능\n",
    "\n"
   ]
  },
  {
   "cell_type": "code",
   "execution_count": null,
   "metadata": {},
   "outputs": [],
   "source": [
    "# 2차원 배열의 인덱싱과 슬라이싱\n",
    "\n",
    "#data[행,열]\n",
    "d = np.range(12).reshape(3.4)\n",
    "print(d.d.shape)\n",
    "\n",
    "\n",
    "#인덱싱  : 자릿값 알아내기\n",
    "\n",
    "printd([0][0])\n",
    "print(d[0,0]) #둘이 똑같음\n",
    "\n",
    "#슬라이싱 : 한 행이나 열을 알아내기  { 슬라이싱 기호 :}\n",
    "print(d[0])\n",
    "print(d[0,:])\n",
    "print(d[:,:-1]) #마지막 열을 제외하고 출력( 1: 이면 첫번째를 제외) \n",
    "                # \" : \" 한 행이나 열을 다 출력하라는 뜻, : 의 개수에 따라 차원이 정해짐\n",
    "\n",
    "print(d[::2,::2]) # step 0부터 2 간격으로 출력 (처음:끝:스텝수)\n",
    "\n",
    "d[0] = 20 []\n",
    "print(d) # 0번 행의 요소들이 20으로 다 바뀜\n",
    "\n",
    "d[:,:] = -1 #행과 열을 한번에 -1로 바꿀 수 있음\n",
    "\n",
    "l = [1,2,3,4,5,6]\n",
    "l[::2(행), ::2(열)] \n",
    "\n"
   ]
  },
  {
   "cell_type": "code",
   "execution_count": null,
   "metadata": {},
   "outputs": [],
   "source": [
    "######2일차##########\n",
    "\n",
    "# 3차원 배월의 인덱싱과 슬라이싱\n",
    "# data[면,행,열]\n",
    " d= np.arange(12).reshape(2,2,3)\n",
    "print(d,d.shape)\n",
    "\n",
    "####인덱싱\n",
    "print(d[0,0,0]) #0번째 면에서 0번째 행 0번째 열의 값을 추출\n",
    "\n",
    "####슬라이싱\n",
    "print(d[:,:-1,:-1]) # (2,1,2)\n",
    "print(d[:,1:,1:]) # (2,1,2)\n",
    "print(d[:,:,-1]) # (2,2)   : 없이 -1만 쓰면 차원이 줄어듬\n",
    "print(d[:,-1,-1]) # (2)\n",
    "\n"
   ]
  },
  {
   "cell_type": "markdown",
   "metadata": {},
   "source": [
    "불린 인덱싱 : 조건식을 사용한 인덱싱, 조건 검색 필터를 사용한 주출(매우 중요)"
   ]
  },
  {
   "cell_type": "code",
   "execution_count": null,
   "metadata": {},
   "outputs": [],
   "source": [
    "a = np.array([1,2,3,4,5,6])\n",
    "print(a)\n",
    "\n",
    "print(a > 2) # [false false true true true true]\n",
    "\n",
    "print(a[a > 2]) #[3 4 5 6] fals값은 무시하고 true 값만 추출\n",
    "\n",
    "print(a[ a != 3])\n",
    "print(a[(a > 2) & (a < 6)]) # (a[조건식])\n"
   ]
  },
  {
   "cell_type": "markdown",
   "metadata": {},
   "source": [
    "fancy 인덱싱 : 리스트나 배열로 임의의 집합을 지정하여 인덱싱,(멋대로 내키는 대로 인덱싱)"
   ]
  },
  {
   "cell_type": "code",
   "execution_count": null,
   "metadata": {},
   "outputs": [],
   "source": [
    "#### 1차원 배열의 fancy 인덱싱\n",
    "\n",
    "a = np.arrange(1,7)\n",
    "print(a, a.shape)\n",
    "\n",
    "print(a[[1,3,2,5,1,2]]) #원하는 자릿값을 출력할 수 있음 [] 꼭 열어줘야됨 []나 :(슬라이싱) 나 똑같음\n",
    "print(a[[-1,-4-,5-2]]) #뒤에서 부터 ~~\n",
    "\n",
    "\n",
    "#### 2차원 배열의 fancy 인덱싱\n",
    "\n",
    "a = np.arrange(10,100,10).reshape(3,3) # 10부터 100까지 10단위로 3/3행렬로 출력\n",
    "print(a, a.shape)\n",
    "\n",
    "print(a[[0,2],[0,1]]) # => a[0,0], a[2,1]이 출력됨 => [10,80], 백터로 출력\n",
    "\n",
    "print(a[0,0],a[2,1]) #스칼라값으로 출력"
   ]
  },
  {
   "cell_type": "code",
   "execution_count": null,
   "metadata": {},
   "outputs": [],
   "source": [
    "#### 배열의 형상 다루기 : reshape(), 편평화(f(transpose())\n",
    "\n",
    "#flatten() : 다차원 배열을 1차원으로 만든다\n",
    "\n",
    "d = np.arrange(12).reshape(3,4)\n",
    "print(d)\n",
    "\n",
    "f = d.flatten()  #  = d.reshape(12,) \n",
    "print(f) \n",
    "\n",
    "#transpose() : 전치 행렬, 행과 열을 서로 맞바꾸는 함수, 2차원일 때만 사용\n",
    "\n",
    "t = d.transpose()\n",
    "print(t,t.shape) # (3,4) ---> (4,3)으로 바뀜\n",
    "\n",
    "print(d.T) # = transpos()\n",
    "\n",
    "# flat : 요소 전체를 변경할 때 사용\n",
    "\n",
    "d.flat = 0       # 요소 전체를 0으로 변경\n",
    "print(d,d.shape)"
   ]
  },
  {
   "cell_type": "code",
   "execution_count": null,
   "metadata": {},
   "outputs": [],
   "source": [
    "# axis(축) 사용법\n",
    "\n",
    "a = np.arrange(12).reshape(3,4)\n",
    "print(a,a.shape)\n",
    "\n",
    "print(a.sum()) # 배열 전체의 합 출력   = (a.sum(axis=none))\n",
    "\n",
    "print(a.sum(axis=0)) # 행(수직방향)들의 합 출력\n",
    "\n",
    "print(a.sum(axis=1)) # 열(수평방향)들의 합 출력\n",
    "print(a.sum(axis=-1)) #마지막 축방향들의 합 출력"
   ]
  },
  {
   "cell_type": "code",
   "execution_count": null,
   "metadata": {},
   "outputs": [],
   "source": [
    "# sort() 함수\n",
    "\n",
    "a = np.array([9,2,8,3,1,4,5,6])\n",
    "print(a,a.shape)\n",
    "\n",
    "r = np.sort(a)  # 오름차순, 원본 변경 없음, sort된 결과를 반환\n",
    "print(r)\n",
    "\n",
    "a.sort()       # 오름차순, 원본 변경\n",
    "print(a)\n",
    "\n",
    "r = np.sor\n",
    "t(a)[::-1] # 내림 차순: 오름 차순 정렬후 순서를 거꾸로 변경 \n",
    "print(r)\n"
   ]
  },
  {
   "cell_type": "code",
   "execution_count": null,
   "metadata": {},
   "outputs": [],
   "source": [
    "# argsort() 함수 : sort된 후 해당 값의 인덱스(원본기준)를 반환\n",
    "\n",
    "a = np.array([9,2,8,3,1,4,5,6])\n",
    "print(a,a.shape)\n",
    "\n",
    "sort_index = np.argsort(a)    #  sort_index = np.argsort(-1*a) // -1을 곱하면 내림차순\n",
    "print(type(sort_index))\n",
    "print(sort_index)          #오름차순\n",
    "print(a[sort_index])"
   ]
  },
  {
   "cell_type": "code",
   "execution_count": null,
   "metadata": {},
   "outputs": [],
   "source": []
  }
 ],
 "metadata": {
  "kernelspec": {
   "display_name": "Python 3",
   "language": "python",
   "name": "python3"
  },
  "language_info": {
   "codemirror_mode": {
    "name": "ipython",
    "version": 3
   },
   "file_extension": ".py",
   "mimetype": "text/x-python",
   "name": "python",
   "nbconvert_exporter": "python",
   "pygments_lexer": "ipython3",
   "version": "3.8.8"
  }
 },
 "nbformat": 4,
 "nbformat_minor": 4
}
