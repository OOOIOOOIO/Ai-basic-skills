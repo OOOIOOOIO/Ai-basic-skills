{
 "cells": [
  {
   "cell_type": "markdown",
   "metadata": {},
   "source": [
    "배열의 연산 : 행령(matrix)의 연산, 선형대수(linear algebra)\n",
    "\n",
    "1, 배열과 상수간의 연산 : 배열 <연산자> 상수, 상수 <연산자> 배열\n",
    "    하나의 스칼라와 배열의 연산, 브로드 캐스팅에 해당되어 자동으로 연산됨"
   ]
  },
  {
   "cell_type": "code",
   "execution_count": null,
   "metadata": {},
   "outputs": [],
   "source": [
    "import numpy as np"
   ]
  },
  {
   "cell_type": "code",
   "execution_count": null,
   "metadata": {},
   "outputs": [],
   "source": [
    "A = np.arrange(16).reshape(4,4)\n",
    "print(A,A.shape)\n",
    "\n",
    "print(A + 10) #각 요소에 10씩을 더함 + - * /  연산 가능"
   ]
  },
  {
   "cell_type": "markdown",
   "metadata": {},
   "source": [
    "2, 배열의 요소 간 연산 : element-wise 연산"
   ]
  },
  {
   "cell_type": "code",
   "execution_count": null,
   "metadata": {},
   "outputs": [],
   "source": [
    "A = np.arrange(9).reshape(3,3)\n",
    "\n",
    "B = np.arrange(9).reshape(3,3) - 1  # 각 요소에 -1씩 뺌 \n",
    "\n",
    "print(A)\n",
    "print(B)\n",
    "\n",
    "print(A+B)"
   ]
  },
  {
   "cell_type": "markdown",
   "metadata": {},
   "source": [
    "3, 브로드 캐스팅 : 차원의 크기가 서로 다른 배열에서 산술연산이 가능"
   ]
  },
  {
   "cell_type": "code",
   "execution_count": null,
   "metadata": {},
   "outputs": [],
   "source": [
    "A = np.arrange(6).reshape(3,2) \n",
    "\n",
    "B = np.arrange(2).reshape(1,2) + 1\n",
    "\n",
    "print(A) # shape (3,2)\n",
    "print(B) # shape (1,2)\n",
    "\n",
    "print('-'*30)  # 문자열에 *을 하면 반복의 의미\n",
    "\n",
    "print(A+B)"
   ]
  },
  {
   "cell_type": "markdown",
   "metadata": {},
   "source": [
    " 브로드 캐스팅 규칙 : 차원과 shape 이 자동 조정\n",
    " \n",
    " 규칙 1 : 두 배열의 차원 수가 다르면 더 작은 수의 차원을 가진 배열의 shape의\n",
    "          앞쪽(왼쪽)을 1로 채운다\n",
    " 규칙 2 : 차원이 같은 두 배열의 shape 이 1인 배열을 다른 배열의 shape과 \n",
    "          일치하도록 늘인다\n",
    " 규칙 3 : 임의의 차원에서 크기가 일치하지 않고 1도 아니라면 오류가 발생"
   ]
  },
  {
   "cell_type": "code",
   "execution_count": null,
   "metadata": {},
   "outputs": [],
   "source": [
    "A = np.ones((2,3))  # shape (2,3)\n",
    "B = np.arrange(3)   # shape (3, )\n",
    "print(A)\n",
    "print(b)\n",
    "\n",
    "#규칙 1 : B.shape  (3, ) -----> (1,3) [[0,1,2]]\n",
    "#규칙 2 : B.shape (1,3) -----> (2,3)  [[0,1,2]\n",
    "                                       [0,1,2]]\n",
    "    \n",
    "#shape 3,2 에서 3,3은 갈 수가 없음     "
   ]
  },
  {
   "cell_type": "code",
   "execution_count": null,
   "metadata": {},
   "outputs": [],
   "source": [
    "# 규칙 1 적용 : B.shape b ==> (1,3)    [[0 1 2]]\n",
    "# 규칙 2 적용 : B.shape b ==> (3,3)    [[0 1 2]\n",
    "#                                       [0 1 2]\n",
    "#                                       [0 1 2]]\n",
    "# 규칙 2 적용 : A.shape b ==> (3,3)    [[1 1 1]\n",
    "#                                       [1 1 1]\n",
    "#                                       [1 1 1]]  \n",
    "--\n",
    "# 끝쪽 차원부터 비교하면서 앞쪽으로 진행한다\n",
    "# 두 배열의 각 차원에서 shape 이 같거나 shape이 1인경우 브로드캐스팅 가능\n",
    "A  =  (2, 3)\n",
    "B  =     (3,)\n",
    "----------------\n",
    "결과: (2, 3)\n",
    "\n",
    "A  =  (3, 1)\n",
    "B  =     (3,)\n",
    "----------------\n",
    "결과: (3, 3)\n",
    "\n",
    "A  =  (3, 2)\n",
    "B  =     (3,)\n",
    "----------------\n",
    "결과: (3, x)  ==> 오류\n",
    "    \n",
    "A  =  (15, 3, 5)\n",
    "B  =      (3, 1)\n",
    "----------------\n",
    "결과: (15, 3, 5)\n",
    "\n",
    "A  =  (8, 1, 6, 1)\n",
    "B  =     (7, 1, 5)\n",
    "--------------------\n",
    "결과: (8 ,7, 6 ,5)\n",
    "    \n",
    "A  =  (8, 4, 3)\n",
    "B  =     (2, 1)\n",
    "----------------\n",
    "결과: (8, x, 3) ==> 오류   \n",
    "    \n",
    "1이 있거나 차원이 하나 모자르면 브로드캐스팅 가능\n"
   ]
  },
  {
   "cell_type": "markdown",
   "metadata": {},
   "source": [
    "4, dot product : 내적 곱셈, 행렬(matrix) 곱셈"
   ]
  },
  {
   "cell_type": "code",
   "execution_count": null,
   "metadata": {},
   "outputs": [],
   "source": [
    "# 1, 차원 배열(벡터)의 내적\n",
    "\n",
    "A = np.array([1,2,3])\n",
    "B = np.array([[4,5,6]])\n",
    "              print(A)\n",
    "              print(B)\n",
    "\n",
    "print(A*B) # element-wise 곱셉\n",
    "              \n",
    "dot_product = np.dot(A,B)  # = A[0] * B[0] + = A[1]* + B[1] + = A[2]* + B[2]\n",
    "print(dot_product)\n",
    "              "
   ]
  },
  {
   "cell_type": "code",
   "execution_count": null,
   "metadata": {},
   "outputs": [],
   "source": [
    "# 2차원 배열(행렬,matrix)의 곱셈\n",
    "\n",
    "A = np.arrange(1,7).reshape(2,3)\n",
    "B = np.arrange(7,13).reshape(3,2)\n",
    "\n",
    "print(A) # (2,3)\n",
    "print(B) # (3,2)    => A*B는 오류가 남(SHAPE이 다름)\n",
    "\n",
    "\n",
    "dot_product = np.dot(A,B)  # = A[0] * B[0] + = A[1]* + B[1] + = A[2]* + B[2]\n",
    "print(dot_product)\n",
    "\n",
    "# (2,3) * (3,2) = (2,2)\n",
    "# (m,n) * (n, L) = (m, L) / 행렬의 내적 곱셈시 shanpe 공식. 필수 암기 요망!\n",
    "\n",
    "A = np.mat(\"1 2 3;4 5 6\")\n",
    "B = np..mat(\"7 8;9 10;11 12\")\n",
    "print(A)\n",
    "print(B)\n",
    "print(type(A)) # type= matrix 수학적으로 쓰는 경우임 행렬.\n"
   ]
  },
  {
   "cell_type": "code",
   "execution_count": null,
   "metadata": {},
   "outputs": [],
   "source": [
    "# 선형 방정식 풀이 : 선형시스템을 해석\n",
    "A = np.mat(\"1 -2 1;0 2 -8;-4 5 9\")\n",
    "print(\"A:\",A)\n",
    "b = np.array([0,8,-9])\n",
    "print(b)\n",
    "\n",
    "# 연립방정식\n",
    "# 1*x0 - 2*x1 + 1*x2 = 0    # 29 - 32 + 3 = 0\n",
    "# 0*x0 + 2*x1 - 8*x2 = 8\n",
    "# -4*x0 + 5*x1 + 9*x2 = -9"
   ]
  },
  {
   "cell_type": "code",
   "execution_count": null,
   "metadata": {},
   "outputs": [],
   "source": [
    "x = np.linalg.solve(A,b)\n",
    "print('Solution:',x)\n",
    "print('Check\\n',np.dot(A,x))\n",
    "\n",
    "# A dot x ==> b\n",
    "# [[ 1 -2  1]         [[29          [[0\n",
    "#  [ 0  2 -8]     dot   16      ==>   8\n",
    "#  [-4  5  9]]          3]]           9]]\n",
    "#  (3,3) * (3,1) ==> (3,1)"
   ]
  },
  {
   "cell_type": "code",
   "execution_count": null,
   "metadata": {},
   "outputs": [],
   "source": [
    "# 기타 연산자 : zeros(), ones()\n",
    "a = np.zeros(10)   # 초기 값을 0으로 채워서 배열을 생성\n",
    "print(a)\n",
    "\n",
    "a = np.zeros((3,4))\n",
    "print(a)\n",
    "\n",
    "a = np.ones(10)\n",
    "print(a)\n",
    "\n",
    "a = np.ones((3,4))  # 초기 값을 1으로 채워서 배열을 생성\n",
    "print(a)\n",
    "\n",
    "e = np.empty((10,3)) # 초기 값을 설정하지 않고 배열을 생성, 빠르게 생성\n",
    "print(e)"
   ]
  },
  {
   "cell_type": "code",
   "execution_count": null,
   "metadata": {},
   "outputs": [],
   "source": [
    "# rand() : 실수\n",
    "# randint() : 정수\n",
    "# randn() : 실수, 정규 분포(standard normal distribution)\n",
    "\n",
    "np.random.seed(5)  # 난수의 씨앗\n",
    "print(np.random.rand(3,4)) # 값이 0 ~ 1 사이, shape (3,4)\n",
    "print(np.random.randint(10,size=(3,4))) # 값이 0 ~ 10 사이, shape (3,4)\n",
    "print(np.random.randn(3,4)) # 정규 분포, 값이 0 ~ 1 사이, shape (3,4)\n",
    "[[0.22199317 0.87073231 0.20671916 0.91861091]"
   ]
  }
 ],
 "metadata": {
  "kernelspec": {
   "display_name": "Python 3",
   "language": "python",
   "name": "python3"
  },
  "language_info": {
   "codemirror_mode": {
    "name": "ipython",
    "version": 3
   },
   "file_extension": ".py",
   "mimetype": "text/x-python",
   "name": "python",
   "nbconvert_exporter": "python",
   "pygments_lexer": "ipython3",
   "version": "3.8.8"
  }
 },
 "nbformat": 4,
 "nbformat_minor": 4
}
