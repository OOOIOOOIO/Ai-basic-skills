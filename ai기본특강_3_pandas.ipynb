{
 "cells": [
  {
   "cell_type": "markdown",
   "metadata": {},
   "source": [
    "### Pandas\n",
    "(1) DataFrame 객체 : 2차원 배열, 서로 다른 자료형을 사용할 수 있다,                                    행(인스턴스), 열(컬럼,피쳐(feature))\n",
    " (2) Series 객체 : 1차원 배열, 1차원 ndarray 와 호환\n"
   ]
  },
  {
   "cell_type": "code",
   "execution_count": null,
   "metadata": {},
   "outputs": [],
   "source": [
    "# ! pip install pandas\n",
    "\n",
    "import pandas as pd\n",
    "import numpy as np\n",
    "\n",
    "# 2차원 리스트, 배열을 사용하여 생성\n",
    "df = pd.DataFrame([[1,2,3],\n",
    "                   [4,5,6],\n",
    "                   [7,8,9]])\n",
    "\n",
    "print(type(df))\n",
    "# print(df)\n",
    "df"
   ]
  },
  {
   "cell_type": "code",
   "execution_count": null,
   "metadata": {},
   "outputs": [],
   "source": [
    "# 사전(dict)을 사용하여 생성\n",
    "score_table = { '성명': ['홍길동','김철수','김영희','나','너'],\n",
    "                '국어': [50,60,70,80,90],\n",
    "                '영어': [10,20,30,40,50],\n",
    "                '수학': [70,80,90,30,20]}\n",
    "# print(score_table,type(score_table))\n",
    "\n",
    "df = pd.DataFrame(score_table)\n",
    "print(type(df))\n",
    "df"
   ]
  },
  {
   "cell_type": "code",
   "execution_count": null,
   "metadata": {},
   "outputs": [],
   "source": [
    "df.shape   # (5,4)"
   ]
  },
  {
   "cell_type": "code",
   "execution_count": null,
   "metadata": {},
   "outputs": [],
   "source": [
    "df.index  # 행의 index"
   ]
  },
  {
   "cell_type": "code",
   "execution_count": null,
   "metadata": {},
   "outputs": [],
   "source": [
    "df.columns # 컬럼 이름 목록"
   ]
  },
  {
   "cell_type": "code",
   "execution_count": null,
   "metadata": {},
   "outputs": [],
   "source": [
    "df.values # 전체 데이터를 추출, 문자와 숫자가 함께 사용 ==> 'object'"
   ]
  },
  {
   "cell_type": "code",
   "execution_count": null,
   "metadata": {},
   "outputs": [],
   "source": [
    "# csv(comma separated values) : 쉼표로 데이터를 구분해놓은 텍스트 파일\n",
    "\n",
    "df = pd.read_csv('WHO_first9cols.csv')\n",
    "df\n",
    "# NaN : Not a Number, 결측치"
   ]
  },
  {
   "cell_type": "code",
   "execution_count": null,
   "metadata": {},
   "outputs": [],
   "source": [
    "# csv 파일로 저장하기\n",
    "df.to_csv('세계보건기구_9개컬럼.csv',index=False)\n",
    "# index = False , 인덱스 값이 추가로 저장되지 않도록 설정\n",
    "\n",
    "df2 = pd.read_csv('세계보건기구_9개컬럼.csv')\n",
    "df2"
   ]
  },
  {
   "cell_type": "code",
   "execution_count": null,
   "metadata": {},
   "outputs": [],
   "source": [
    "df.shape"
   ]
  },
  {
   "cell_type": "code",
   "execution_count": null,
   "metadata": {},
   "outputs": [],
   "source": [
    "len(df)"
   ]
  },
  {
   "cell_type": "code",
   "execution_count": null,
   "metadata": {},
   "outputs": [],
   "source": [
    "df.columns"
   ]
  },
  {
   "cell_type": "code",
   "execution_count": null,
   "metadata": {},
   "outputs": [],
   "source": [
    "print(df.columns[0])    # 첫 번째 컬럼명\n",
    "print(df.columns[1])\n",
    "print(df.columns[8])\n",
    "print(df.columns[-1])   # 마지막 컬럼명"
   ]
  },
  {
   "cell_type": "code",
   "execution_count": null,
   "metadata": {},
   "outputs": [],
   "source": [
    "df.index"
   ]
  },
  {
   "cell_type": "code",
   "execution_count": null,
   "metadata": {},
   "outputs": [],
   "source": [
    "df.head()    # 앞 5 행만 출력\n",
    "df.head(10)  # 앞 10 행만 출력\n",
    "\n",
    "df.tail()    # 끝 5 행만 출력\n",
    "df.tail(10)  # 끝 10 행만 출력\n",
    "\n",
    "df.head(60)   # 60 개 까지는 모두 출력, 그 이상일 경우는 생략\n",
    "\n",
    "pd.set_option('display.max_rows', 200) # 행의 출력 최대값을 200\n",
    "df.head(200)\n",
    "pd.set_option('display.max_rows', 60) # 행의 출력 최대값을 60\n",
    "df.head(200)"
   ]
  },
  {
   "cell_type": "code",
   "execution_count": null,
   "metadata": {},
   "outputs": [],
   "source": [
    "#  DataFrame 을 행(row) 으로 접근 : 슬라이싱으로 행을 추출\n",
    "#  df[start 행번호: end 행번호 + 1: step]\n",
    "df[:5]     # df.head()\n",
    "df[11:16]\n",
    "df[::3]\n",
    "df[::-1]   # 행을 역순으로 출력\n",
    "df[0:1]\n",
    "\n",
    "# 사용주의  ==> df.iloc[] 사용하면 해결\n",
    "# df[0]    # KeyError\n",
    "# df[3,1]  # KeyError\n",
    "# df[3,:]  # KeyError"
   ]
  },
  {
   "cell_type": "code",
   "execution_count": null,
   "metadata": {},
   "outputs": [],
   "source": [
    "# DataFrame 을 열(column)으로 접근\n",
    "len(df.columns)    # 9\n",
    "df['Country']      # 'Country' 컬럼을 Series객체로 추출, 1차원 배열\n",
    "df[df.columns[0]]  #  0번 컬럼을 Series객체로 추출, 1차원 배열\n",
    "df[df.columns[1]]  #  1번 컬럼을 Series객체로 추출, 1차원 배열\n",
    "\n",
    "df[df.columns[8]]  #  8번 컬럼을 Series객체로 추출, 1차원 배열\n",
    "df[df.columns[-1]] #  마지막 컬럼을 Series객체로 추출, 1차원 배열\n",
    "df['Population (in thousands) total']\n",
    "\n",
    "df.Country    # df['Country']  와 동일한 결과"
   ]
  },
  {
   "cell_type": "code",
   "execution_count": null,
   "metadata": {},
   "outputs": [],
   "source": [
    "sr = df['Country']       # Series 객체 : 1차원 배열(ndarray)과 호환\n",
    "print(type(sr))\n",
    "\n",
    "sr = df[df.columns[-1]]  # Series 객체 : 1차원 배열(ndarray)과 호환\n",
    "print(type(sr))\n",
    "sr"
   ]
  },
  {
   "cell_type": "code",
   "execution_count": null,
   "metadata": {},
   "outputs": [],
   "source": [
    "# 1개 컬럼의 요소 접근\n",
    "\n",
    "# 인덱싱\n",
    "print(df[df.columns[0]][0])\n",
    "print(df['Country'][0])\n",
    "print(df[df.columns[0]][201])\n",
    "\n",
    "# print(df[df.columns[0]][-1])  # 주의 오류  , [-1] --> [-1:]\n",
    "\n",
    "print(type(df[df.columns[0]][0]))    # str\n",
    "\n",
    "# 슬라이싱\n",
    "df[df.columns[0]][2:6]   # 2번 행부터 5번 행까지\n",
    "df[df.columns[0]][:-1]   # 마지막 행은 제외\n",
    "df[df.columns[0]][::3]   # 3개의 step으로 슬라이싱\n",
    "df[df.columns[0]][-1:]   # 마지막 행만 추출\n",
    "df[df.columns[0]][::-1]  # 행을 역순으로 출력"
   ]
  },
  {
   "cell_type": "code",
   "execution_count": null,
   "metadata": {},
   "outputs": [],
   "source": [
    "# 여러 개의 컬럼을 가져오기:여러개의 컬럼명을 리스트로 만들어서 인덱싱에 사용\n",
    "df[['Country','CountryID','Continent']]            # DataFrame 추출\n",
    "df[[df.columns[0],df.columns[1],df.columns[2]]]    # DataFrame 추출\n",
    "\n",
    "# df[[df.columns[0],df.columns[1],df.columns[2]]][0]     # DataFrame이므로 오류\n",
    "df[[df.columns[0],df.columns[1],df.columns[2]]][2:15:3]  # 슬라이싱"
   ]
  },
  {
   "cell_type": "code",
   "execution_count": null,
   "metadata": {},
   "outputs": [],
   "source": [
    "# df.loc[] \n",
    "df.loc[3,'Country']    # 3번 행, 0번 컬럼\n",
    "df.loc[:3,'Country']   # start:end, end - 1 까지가 아님(주의)\n",
    "df.loc[:3,['Country','CountryID','Continent']]"
   ]
  },
  {
   "cell_type": "code",
   "execution_count": null,
   "metadata": {},
   "outputs": [],
   "source": [
    "# df.iloc[] : column index를 int형으로 사용, 자주 사용됨!\n",
    "df.iloc[3,0]\n",
    "df.iloc[:4,:3] # start: end + 1\n",
    "df.iloc[:4,[0,2,4]]\n",
    "\n",
    "df.iloc[:,:-1]  # 마지막 컬럼을 제외  , X (독립변수)추출\n",
    "df.iloc[:,-1]   # 마지막 컬럼만 추출  , Y (종속변수)추출 \n",
    "\n",
    "# 요소 값의 변경\n",
    "df.iloc[4,0] = 'Dorra'    # 'Andorra' --> 'Dorra'\n",
    "df.iloc[4,0] = 'Andorra'  # 'Dorra'  --> 'Andorra'\n",
    "\n",
    "# -1 사용 가능\n",
    "df.iloc[-1,0]\n",
    "df.iloc[0,-1]"
   ]
  },
  {
   "cell_type": "code",
   "execution_count": null,
   "metadata": {},
   "outputs": [],
   "source": [
    "df2 = df                  # (1) view 처럼 메모리를 공유\n",
    "df3 = df.copy()           # (2) copy , 별도의 메모리 사용\n",
    "df4 = df.iloc[:,:3]       # (3) copy , 별도의 메모리 사용\n",
    "# df4.iloc[0,0] =  'Afghanistan'\n",
    "# df4"
   ]
  },
  {
   "cell_type": "code",
   "execution_count": null,
   "metadata": {},
   "outputs": [],
   "source": [
    "df.count()  # 결측치(NaN)가 아니 데이터의 총 갯수"
   ]
  },
  {
   "cell_type": "markdown",
   "metadata": {},
   "source": [
    "통계 함수\n",
    "평균(mean) : 모든 데이터의 값을 더하고 데이터의 갯수로 나눈 값, 중심 성향에 대한 추정량을 계산할 때 사용\n",
    "편차(deviation) : 관측값과 평균 값과의 차이,(데이터 값 - 평균), 양수나 음수의 값을 갖는다\n",
    "분산(variance) : 편차의 제곱의 합의 평균, 음수값이 양수로 더해진다, 실제값보다 너무 멀어져 있게 된다\n",
    "표준편차(standard deviation) : 분산에 루트(제곱근)를 씌운 값"
   ]
  },
  {
   "cell_type": "code",
   "execution_count": null,
   "metadata": {},
   "outputs": [],
   "source": [
    "df.mad() # Mean Absolute Deviation ,평균 절대 편차"
   ]
  },
  {
   "cell_type": "code",
   "execution_count": null,
   "metadata": {},
   "outputs": [],
   "source": [
    "df.mean()  # 평균"
   ]
  },
  {
   "cell_type": "code",
   "execution_count": null,
   "metadata": {},
   "outputs": [],
   "source": [
    "df.median() #  중위수, 2사분위수(Q2)"
   ]
  },
  {
   "cell_type": "code",
   "execution_count": null,
   "metadata": {},
   "outputs": [],
   "source": [
    "df.sum()\n",
    "df.max()\n",
    "df.min()\n",
    "df.mode() # 최빈값, 빈도가 가장 높은 값\n",
    "df.var()  # 분산\n",
    "df.skew() # 비대칭도\n",
    "df.kurt() # 첨도"
   ]
  },
  {
   "cell_type": "code",
   "execution_count": null,
   "metadata": {},
   "outputs": [],
   "source": [
    "df[df > df.mean()]   # 불필요한 출력\n",
    "\n",
    "# 올바른 검색 출력\n",
    "df[df['Adolescent fertility rate (%)'] >\n",
    "   df['Adolescent fertility rate (%)'].mean()]\n",
    "# df['Adolescent fertility rate (%)'].mean() # 59.45762711864407"
   ]
  },
  {
   "cell_type": "code",
   "execution_count": null,
   "metadata": {},
   "outputs": [],
   "source": [
    "# 성인 중에서 글을 읽을 수 있는 사람의 비율이 30% 미만인 행 추출\n",
    "df[df['Adult literacy rate (%)'] < 30]"
   ]
  },
  {
   "cell_type": "code",
   "execution_count": null,
   "metadata": {},
   "outputs": [],
   "source": [
    "type(df['Adult literacy rate (%)'])   # Series 객체\n",
    "type(df[['Adult literacy rate (%)']]) # 컬럼이 하나인 DataFrame 객체"
   ]
  },
  {
   "cell_type": "code",
   "execution_count": null,
   "metadata": {},
   "outputs": [],
   "source": [
    "# 조건식 2개 사용\n",
    "df[(df['Adult literacy rate (%)'] > 30) & (df['Adult literacy rate (%)'] < 50)]"
   ]
  }
 ],
 "metadata": {
  "kernelspec": {
   "display_name": "Python 3",
   "language": "python",
   "name": "python3"
  },
  "language_info": {
   "codemirror_mode": {
    "name": "ipython",
    "version": 3
   },
   "file_extension": ".py",
   "mimetype": "text/x-python",
   "name": "python",
   "nbconvert_exporter": "python",
   "pygments_lexer": "ipython3",
   "version": "3.8.8"
  }
 },
 "nbformat": 4,
 "nbformat_minor": 4
}
