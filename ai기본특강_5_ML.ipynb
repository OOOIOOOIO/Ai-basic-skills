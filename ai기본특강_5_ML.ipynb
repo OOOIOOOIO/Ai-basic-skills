{
 "cells": [
  {
   "cell_type": "markdown",
   "metadata": {},
   "source": [
    "머신 러닝 개념\n",
    "인공지능(AI) 분류\n",
    "[1] 규칙기반 AI : rule-based system , 수동으로 규칙(특징)을 입력하면 기계가 추론, Prolog, LISP   \n",
    "[2] 학습기반 AI : 머신 러닝(Machine Learning), 데이터를 입력하면 기계가 스스로 새로운 특징을 학습하고 예측   \n",
    "머신러닝 분류\n",
    "[1] 지도학습(Supervised Learning) : 답이 주어진 상태에서 학습   \n",
    "회귀(Regression)\n",
    "분류(Classification)\n",
    "[2] 비지도학습(Unsupervised Learning) : 답을 모르고 학습   \n",
    "군집화(Clustering)\n",
    "차원 축소(Dimension Reduction) : PCA(주성분 분석, Pricipal Component Analysis)\n",
    "[3] 강화 학습(Reinforcement Learning) : 답을 모르고 있는 상태에서 답을 알아가는 강한 인공지능(자아를 갖음, 인간수준)   \n",
    "게임, 알파고(DQN)\n",
    "\n",
    "회귀 (Regression) 모델\n",
    "[1] 선형 회귀(Linear Regression) : 1차 함수, 직선의 방정식\n",
    "[2] 가중치(Weight) : 입력변수가 출력에 영향을 미치는 정도를 설정, 기울기 값 , 회귀 계수\n",
    "[3] 편향(Bias) : 기본 출력 값이 활성화 되는 정도를 설정, y 절편, 회귀 계수\n",
    "[4] 비용함수(Cost Function) : 2차 함수, 포물선의 방정식, (예측값 - 실제값)^2\n",
    "cost(비용) = 오차 = 에러 = 손실(loss)\n",
    "cost(W,b) = (H(x) - y)^2\n",
    "[5] 예측(가설,Hypothesis) 함수: predict, H(x) : 예측 값, y:답,결정값,target,label, x:입력,feature(피쳐)\n",
    "H(X) = W*X + b\n",
    "[6] 경사 하강법(Gradient Descent Algorithm)\n",
    ": 비용이 가장 작은 기울기 값을 구하는 알고리즘"
   ]
  },
  {
   "cell_type": "code",
   "execution_count": 1,
   "metadata": {},
   "outputs": [
    {
     "name": "stdout",
     "output_type": "stream",
     "text": [
      "w:-1, cost: 18.666666666666668\n",
      "w:0,  cost: 4.666666666666667\n",
      "w:1,  cost: 0.0\n",
      "w:2,  cost: 4.666666666666667\n",
      "w:3,  cost: 18.666666666666668\n"
     ]
    },
    {
     "data": {
      "image/png": "[encoded data removed]",
      "text/plain": [
       "<Figure size 432x288 with 1 Axes>"
      ]
     },
     "metadata": {
      "needs_background": "light"
     },
     "output_type": "display_data"
    }
   ],
   "source": [
    "import numpy as np\n",
    "import pandas as pd\n",
    "import matplotlib.pyplot as plt\n",
    "\n",
    "# 비용함수의 구현\n",
    "def cost(x,y,w):     \n",
    "    c = 0\n",
    "    for k in range(len(x)):\n",
    "        hx = w * x[k]        # 예측 함수\n",
    "        loss = (hx - y[k])**2   # 비용함수 ,(예측값 - 실제값)^2\n",
    "        c += loss\n",
    "    return c/len(x)          # 평균 제곱 오차   \n",
    "\n",
    "x = [1,2,3]   # 입력 값  ,         독립 변수\n",
    "y = [1,2,3]   # 실제값,답, target, 종속 변수\n",
    "\n",
    "print('w:-1, cost:',cost(x,y,-1))   # hx = [-1,-2,-3]\n",
    "print('w:0,  cost:',cost(x,y,0))    # hx = [0,0,0]\n",
    "print('w:1,  cost:',cost(x,y,1))    # hx = [1,2,3]  , cost: 0.0\n",
    "print('w:2,  cost:',cost(x,y,2))    # hx = [2,4,6]  \n",
    "print('w:3,  cost:',cost(x,y,3))    # hx = [3,6,9] \n",
    "\n",
    "# 비용함수 시각화 : x축은 weight, y축은 cost로 하는 2차 함수, 포물선의 방정식\n",
    "for k in range(-30,50):\n",
    "    w = k/10\n",
    "    c = cost(x,y,w)\n",
    "    plt.plot(w,c,'ro')\n",
    "    \n",
    "plt.title(' ** Cost Graph **') \n",
    "plt.xlabel('weight')\n",
    "plt.ylabel('cost')\n",
    "plt.grid(True)\n",
    "plt.show()"
   ]
  },
  {
   "cell_type": "markdown",
   "metadata": {},
   "source": [
    "미분 : 순간 변화량,기울기, x 축으로 1 만큼 움직였을 때 y 축으로 움직인 거리\n",
    "함수 미분 공식 정리 : f(x) = x ^n ===> f'(x) = n*x^(n-1)\n",
    "y = 3 ===> y' = 0\n",
    "y = 2*x ===> y' = 2\n",
    "y = x^2 ===> y' = 2*x\n",
    "y = (x + 1)^2 ===> y' = 2(x + 1) #### ( y = x^2 + 2x + 1 ===> y' = 2x + 2 = 2(x + 1)"
   ]
  },
  {
   "cell_type": "code",
   "execution_count": 2,
   "metadata": {},
   "outputs": [],
   "source": [
    "# 경사 하강법 알고리즘 함수 구현, 미분 적용\n",
    "# W : W - (학습율)* 미분값     ==> 가중치를 업데이트한다\n",
    "def gradient_descent(x,y,w):\n",
    "    c = 0\n",
    "    for i in range(len(x)):\n",
    "        hx = w*x[i]\n",
    "        loss = (hx - y[i])*x[i]  # 곱하기 2를 생략한 비용함수의 미분 공식\n",
    "        c += loss\n",
    "        # 비용함수의 미분 : cost(w) = (w*x[i] - y[i])^2 의 미분\n",
    "        # (a + b)^2 = a^2 + 2*a*b + b^2\n",
    "        # cost(w) = w^2 * x[i]^2 - 2 * w * x[i] * y[i] + y[i]^2\n",
    "        # cost'(w) = 2*w*x[i]^2 - 2 * x[i] * y[i] = 2*x[i]*(w*x[i] - y[i]) ==> (hx - y[i])*x[i]\n",
    "    return c/len(x)"
   ]
  },
  {
   "cell_type": "code",
   "execution_count": null,
   "metadata": {},
   "outputs": [],
   "source": []
  },
  {
   "cell_type": "code",
   "execution_count": null,
   "metadata": {},
   "outputs": [],
   "source": []
  }
 ],
 "metadata": {
  "kernelspec": {
   "display_name": "Python 3",
   "language": "python",
   "name": "python3"
  },
  "language_info": {
   "codemirror_mode": {
    "name": "ipython",
    "version": 3
   },
   "file_extension": ".py",
   "mimetype": "text/x-python",
   "name": "python",
   "nbconvert_exporter": "python",
   "pygments_lexer": "ipython3",
   "version": "3.8.8"
  }
 },
 "nbformat": 4,
 "nbformat_minor": 4
}
